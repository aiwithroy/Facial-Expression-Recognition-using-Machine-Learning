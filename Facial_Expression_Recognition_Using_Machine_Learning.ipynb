{
  "nbformat": 4,
  "nbformat_minor": 0,
  "metadata": {
    "colab": {
      "name": "Facial Expression Recognition Using Machine Learning.ipynb",
      "provenance": [],
      "collapsed_sections": [],
      "mount_file_id": "18UjfYL-PdpBi4E0isqisnVnt-NURSD-b",
      "authorship_tag": "ABX9TyO7MA2I937lJ3f+5sdW0vvC",
      "include_colab_link": true
    },
    "kernelspec": {
      "display_name": "Python 3",
      "name": "python3"
    },
    "language_info": {
      "name": "python"
    },
    "accelerator": "GPU"
  },
  "cells": [
    {
      "cell_type": "markdown",
      "metadata": {
        "id": "view-in-github",
        "colab_type": "text"
      },
      "source": [
        "<a href=\"https://colab.research.google.com/github/roydatascientist/Facial-Expression-Recognition-using-Machine-Learning/blob/master/Facial_Expression_Recognition_Using_Machine_Learning.ipynb\" target=\"_parent\"><img src=\"https://colab.research.google.com/assets/colab-badge.svg\" alt=\"Open In Colab\"/></a>"
      ]
    },
    {
      "cell_type": "code",
      "metadata": {
        "colab": {
          "base_uri": "https://localhost:8080/"
        },
        "id": "nWEdTon6vDxX",
        "outputId": "6eccc538-d29a-4823-966f-e26d5a13826f"
      },
      "source": [
        "from zipfile import ZipFile\n",
        "file_name = \"/content/drive/MyDrive/Emotions.zip\"\n",
        "with ZipFile(file_name, 'r') as zip:\n",
        "  zip.extractall()\n",
        "  print(\"File extracted!\")"
      ],
      "execution_count": 1,
      "outputs": [
        {
          "output_type": "stream",
          "name": "stdout",
          "text": [
            "File extracted!\n"
          ]
        }
      ]
    },
    {
      "cell_type": "code",
      "metadata": {
        "id": "MhodAB2-vEI5"
      },
      "source": [
        "import numpy as np\n",
        "import cv2\n",
        "from keras.models import Sequential\n",
        "from keras.layers import Dense, Dropout, Flatten\n",
        "from keras.layers import Conv2D\n",
        "from tensorflow.keras.optimizers import Adam\n",
        "from keras.layers import MaxPooling2D\n",
        "from keras.preprocessing.image import ImageDataGenerator"
      ],
      "execution_count": 2,
      "outputs": []
    },
    {
      "cell_type": "code",
      "metadata": {
        "colab": {
          "base_uri": "https://localhost:8080/"
        },
        "id": "zLNwz_JbvEqd",
        "outputId": "574508be-a4db-4f4d-d63a-0c3bd3bb94cf"
      },
      "source": [
        "train_dir = 'train'\n",
        "val_dir = 'test'\n",
        "train_datagen = ImageDataGenerator(rescale=1./255)\n",
        "val_datagen = ImageDataGenerator(rescale=1./255)\n",
        "\n",
        "train_generator = train_datagen.flow_from_directory(\n",
        "        train_dir,\n",
        "        target_size=(48,48),\n",
        "        batch_size=64,\n",
        "        color_mode=\"grayscale\",\n",
        "        class_mode='categorical')\n",
        "\n",
        "validation_generator = val_datagen.flow_from_directory(\n",
        "        val_dir,\n",
        "        target_size=(48,48),\n",
        "        batch_size=64,\n",
        "        color_mode=\"grayscale\",\n",
        "        class_mode='categorical')"
      ],
      "execution_count": 3,
      "outputs": [
        {
          "output_type": "stream",
          "name": "stdout",
          "text": [
            "Found 28709 images belonging to 7 classes.\n",
            "Found 7178 images belonging to 7 classes.\n"
          ]
        }
      ]
    },
    {
      "cell_type": "code",
      "metadata": {
        "id": "BOaLns55vFxM"
      },
      "source": [
        "#Building CNN Model\n",
        "facial_expression_model = Sequential()\n",
        "facial_expression_model.add(Conv2D(32, kernel_size=(3, 3), activation='relu', input_shape=(48,48,1)))\n",
        "facial_expression_model.add(Conv2D(64, kernel_size=(3, 3), activation='relu'))\n",
        "facial_expression_model.add(MaxPooling2D(pool_size=(2, 2)))\n",
        "facial_expression_model.add(Dropout(0.25))\n",
        "\n",
        "facial_expression_model.add(Conv2D(128, kernel_size=(3, 3), activation='relu'))\n",
        "facial_expression_model.add(MaxPooling2D(pool_size=(2, 2)))\n",
        "facial_expression_model.add(Conv2D(128, kernel_size=(3, 3), activation='relu'))\n",
        "facial_expression_model.add(MaxPooling2D(pool_size=(2, 2)))\n",
        "facial_expression_model.add(Dropout(0.25))\n",
        "\n",
        "facial_expression_model.add(Flatten())\n",
        "facial_expression_model.add(Dense(1024, activation='relu'))\n",
        "facial_expression_model.add(Dropout(0.5))\n",
        "facial_expression_model.add(Dense(7, activation='softmax'))"
      ],
      "execution_count": 4,
      "outputs": []
    },
    {
      "cell_type": "code",
      "metadata": {
        "colab": {
          "base_uri": "https://localhost:8080/"
        },
        "id": "-EZ_IjUhvGK2",
        "outputId": "ec0cebc5-d398-4198-cacb-b0bcaaa7f753"
      },
      "source": [
        "import matplotlib.pyplot as plt\n",
        "facial_expression_model.compile(loss='categorical_crossentropy',optimizer=Adam(learning_rate=0.0001, decay=1e-6),metrics=['accuracy'])\n",
        "facial_expression_model_info = facial_expression_model.fit(\n",
        "        train_generator,\n",
        "        steps_per_epoch=28709 // 64,\n",
        "        epochs=50,\n",
        "        validation_data=validation_generator,\n",
        "        validation_steps=7178 // 64)\n",
        "plt.plot(facial_expression_model_info.history['accuracy'])\n",
        "plt.plot(facial_expression_model_info.history['val_accuracy'])\n",
        "plt.title('model accuracy')\n",
        "plt.ylabel('accuracy')\n",
        "plt.xlabel('epoch')\n",
        "plt.legend(['train', 'test'], loc='upper left')\n",
        "plt.show()"
      ],
      "execution_count": 5,
      "outputs": [
        {
          "output_type": "stream",
          "name": "stdout",
          "text": [
            "Epoch 1/50\n",
            "448/448 [==============================] - 26s 28ms/step - loss: 1.8006 - accuracy: 0.2616 - val_loss: 1.7002 - val_accuracy: 0.3287\n",
            "Epoch 2/50\n",
            "448/448 [==============================] - 12s 27ms/step - loss: 1.6234 - accuracy: 0.3681 - val_loss: 1.5383 - val_accuracy: 0.4164\n",
            "Epoch 3/50\n",
            "448/448 [==============================] - 13s 29ms/step - loss: 1.5254 - accuracy: 0.4148 - val_loss: 1.4563 - val_accuracy: 0.4453\n",
            "Epoch 4/50\n",
            "448/448 [==============================] - 12s 27ms/step - loss: 1.4544 - accuracy: 0.4428 - val_loss: 1.3985 - val_accuracy: 0.4735\n",
            "Epoch 5/50\n",
            "448/448 [==============================] - 12s 27ms/step - loss: 1.3965 - accuracy: 0.4666 - val_loss: 1.3471 - val_accuracy: 0.4898\n",
            "Epoch 6/50\n",
            "448/448 [==============================] - 12s 27ms/step - loss: 1.3459 - accuracy: 0.4888 - val_loss: 1.3028 - val_accuracy: 0.5050\n",
            "Epoch 7/50\n",
            "448/448 [==============================] - 13s 29ms/step - loss: 1.2975 - accuracy: 0.5091 - val_loss: 1.2722 - val_accuracy: 0.5146\n",
            "Epoch 8/50\n",
            "448/448 [==============================] - 12s 27ms/step - loss: 1.2601 - accuracy: 0.5237 - val_loss: 1.2403 - val_accuracy: 0.5318\n",
            "Epoch 9/50\n",
            "448/448 [==============================] - 12s 27ms/step - loss: 1.2265 - accuracy: 0.5380 - val_loss: 1.2167 - val_accuracy: 0.5384\n",
            "Epoch 10/50\n",
            "448/448 [==============================] - 13s 28ms/step - loss: 1.1934 - accuracy: 0.5515 - val_loss: 1.2152 - val_accuracy: 0.5378\n",
            "Epoch 11/50\n",
            "448/448 [==============================] - 12s 28ms/step - loss: 1.1651 - accuracy: 0.5633 - val_loss: 1.1849 - val_accuracy: 0.5495\n",
            "Epoch 12/50\n",
            "448/448 [==============================] - 12s 28ms/step - loss: 1.1391 - accuracy: 0.5724 - val_loss: 1.1587 - val_accuracy: 0.5629\n",
            "Epoch 13/50\n",
            "448/448 [==============================] - 14s 31ms/step - loss: 1.1103 - accuracy: 0.5834 - val_loss: 1.1501 - val_accuracy: 0.5642\n",
            "Epoch 14/50\n",
            "448/448 [==============================] - 12s 27ms/step - loss: 1.0890 - accuracy: 0.5918 - val_loss: 1.1296 - val_accuracy: 0.5711\n",
            "Epoch 15/50\n",
            "448/448 [==============================] - 12s 27ms/step - loss: 1.0647 - accuracy: 0.6013 - val_loss: 1.1236 - val_accuracy: 0.5758\n",
            "Epoch 16/50\n",
            "448/448 [==============================] - 12s 27ms/step - loss: 1.0398 - accuracy: 0.6118 - val_loss: 1.1069 - val_accuracy: 0.5822\n",
            "Epoch 17/50\n",
            "448/448 [==============================] - 12s 27ms/step - loss: 1.0213 - accuracy: 0.6185 - val_loss: 1.1032 - val_accuracy: 0.5824\n",
            "Epoch 18/50\n",
            "448/448 [==============================] - 13s 28ms/step - loss: 0.9944 - accuracy: 0.6293 - val_loss: 1.1060 - val_accuracy: 0.5823\n",
            "Epoch 19/50\n",
            "448/448 [==============================] - 13s 28ms/step - loss: 0.9760 - accuracy: 0.6392 - val_loss: 1.0933 - val_accuracy: 0.5970\n",
            "Epoch 20/50\n",
            "448/448 [==============================] - 13s 28ms/step - loss: 0.9537 - accuracy: 0.6498 - val_loss: 1.0796 - val_accuracy: 0.5950\n",
            "Epoch 21/50\n",
            "448/448 [==============================] - 12s 27ms/step - loss: 0.9301 - accuracy: 0.6543 - val_loss: 1.0921 - val_accuracy: 0.5947\n",
            "Epoch 22/50\n",
            "448/448 [==============================] - 12s 27ms/step - loss: 0.9070 - accuracy: 0.6667 - val_loss: 1.0683 - val_accuracy: 0.6016\n",
            "Epoch 23/50\n",
            "448/448 [==============================] - 12s 27ms/step - loss: 0.8801 - accuracy: 0.6756 - val_loss: 1.0699 - val_accuracy: 0.6052\n",
            "Epoch 24/50\n",
            "448/448 [==============================] - 13s 28ms/step - loss: 0.8645 - accuracy: 0.6793 - val_loss: 1.0677 - val_accuracy: 0.6028\n",
            "Epoch 25/50\n",
            "448/448 [==============================] - 13s 29ms/step - loss: 0.8396 - accuracy: 0.6917 - val_loss: 1.0666 - val_accuracy: 0.6066\n",
            "Epoch 26/50\n",
            "448/448 [==============================] - 12s 27ms/step - loss: 0.8210 - accuracy: 0.6964 - val_loss: 1.0588 - val_accuracy: 0.6168\n",
            "Epoch 27/50\n",
            "448/448 [==============================] - 12s 27ms/step - loss: 0.7899 - accuracy: 0.7132 - val_loss: 1.0571 - val_accuracy: 0.6179\n",
            "Epoch 28/50\n",
            "448/448 [==============================] - 12s 27ms/step - loss: 0.7759 - accuracy: 0.7166 - val_loss: 1.0639 - val_accuracy: 0.6112\n",
            "Epoch 29/50\n",
            "448/448 [==============================] - 13s 29ms/step - loss: 0.7537 - accuracy: 0.7264 - val_loss: 1.0582 - val_accuracy: 0.6164\n",
            "Epoch 30/50\n",
            "448/448 [==============================] - 12s 27ms/step - loss: 0.7304 - accuracy: 0.7346 - val_loss: 1.0622 - val_accuracy: 0.6158\n",
            "Epoch 31/50\n",
            "448/448 [==============================] - 12s 27ms/step - loss: 0.7097 - accuracy: 0.7393 - val_loss: 1.0533 - val_accuracy: 0.6179\n",
            "Epoch 32/50\n",
            "448/448 [==============================] - 12s 27ms/step - loss: 0.6817 - accuracy: 0.7511 - val_loss: 1.0723 - val_accuracy: 0.6217\n",
            "Epoch 33/50\n",
            "448/448 [==============================] - 12s 26ms/step - loss: 0.6686 - accuracy: 0.7541 - val_loss: 1.0740 - val_accuracy: 0.6222\n",
            "Epoch 34/50\n",
            "448/448 [==============================] - 12s 27ms/step - loss: 0.6486 - accuracy: 0.7639 - val_loss: 1.0603 - val_accuracy: 0.6197\n",
            "Epoch 35/50\n",
            "448/448 [==============================] - 12s 27ms/step - loss: 0.6270 - accuracy: 0.7714 - val_loss: 1.0782 - val_accuracy: 0.6208\n",
            "Epoch 36/50\n",
            "448/448 [==============================] - 12s 26ms/step - loss: 0.6114 - accuracy: 0.7787 - val_loss: 1.0828 - val_accuracy: 0.6159\n",
            "Epoch 37/50\n",
            "448/448 [==============================] - 12s 28ms/step - loss: 0.5819 - accuracy: 0.7891 - val_loss: 1.0807 - val_accuracy: 0.6249\n",
            "Epoch 38/50\n",
            "448/448 [==============================] - 12s 26ms/step - loss: 0.5628 - accuracy: 0.7969 - val_loss: 1.0987 - val_accuracy: 0.6254\n",
            "Epoch 39/50\n",
            "448/448 [==============================] - 12s 27ms/step - loss: 0.5423 - accuracy: 0.8024 - val_loss: 1.1036 - val_accuracy: 0.6274\n",
            "Epoch 40/50\n",
            "448/448 [==============================] - 13s 29ms/step - loss: 0.5239 - accuracy: 0.8123 - val_loss: 1.1152 - val_accuracy: 0.6246\n",
            "Epoch 41/50\n",
            "448/448 [==============================] - 12s 27ms/step - loss: 0.5090 - accuracy: 0.8164 - val_loss: 1.0995 - val_accuracy: 0.6232\n",
            "Epoch 42/50\n",
            "448/448 [==============================] - 12s 28ms/step - loss: 0.4972 - accuracy: 0.8180 - val_loss: 1.1235 - val_accuracy: 0.6288\n",
            "Epoch 43/50\n",
            "448/448 [==============================] - 13s 30ms/step - loss: 0.4801 - accuracy: 0.8257 - val_loss: 1.1404 - val_accuracy: 0.6221\n",
            "Epoch 44/50\n",
            "448/448 [==============================] - 12s 27ms/step - loss: 0.4671 - accuracy: 0.8318 - val_loss: 1.1176 - val_accuracy: 0.6240\n",
            "Epoch 45/50\n",
            "448/448 [==============================] - 13s 29ms/step - loss: 0.4472 - accuracy: 0.8394 - val_loss: 1.1438 - val_accuracy: 0.6327\n",
            "Epoch 46/50\n",
            "448/448 [==============================] - 12s 27ms/step - loss: 0.4337 - accuracy: 0.8434 - val_loss: 1.1379 - val_accuracy: 0.6285\n",
            "Epoch 47/50\n",
            "448/448 [==============================] - 12s 27ms/step - loss: 0.4167 - accuracy: 0.8494 - val_loss: 1.1560 - val_accuracy: 0.6282\n",
            "Epoch 48/50\n",
            "448/448 [==============================] - 12s 27ms/step - loss: 0.4026 - accuracy: 0.8541 - val_loss: 1.1649 - val_accuracy: 0.6345\n",
            "Epoch 49/50\n",
            "448/448 [==============================] - 13s 28ms/step - loss: 0.3941 - accuracy: 0.8585 - val_loss: 1.1639 - val_accuracy: 0.6324\n",
            "Epoch 50/50\n",
            "448/448 [==============================] - 13s 29ms/step - loss: 0.3876 - accuracy: 0.8576 - val_loss: 1.1670 - val_accuracy: 0.6307\n"
          ]
        },
        {
          "output_type": "display_data",
          "data": {
            "text/plain": [
              "<Figure size 432x288 with 1 Axes>"
            ],
            "image/png": "[encoded data removed]"
          },
          "metadata": {
            "needs_background": "light"
          }
        }
      ]
    },
    {
      "cell_type": "code",
      "metadata": {
        "id": "FB2u0VgvpSFz",
        "colab": {
          "base_uri": "https://localhost:8080/",
          "height": 295
        },
        "outputId": "3a39e030-9f62-4cf0-8e45-9dcd7ee056d0"
      },
      "source": [
        "plt.plot(facial_expression_model_info.history['loss'])\n",
        "plt.plot(facial_expression_model_info.history['val_loss'])\n",
        "plt.title('model loss')\n",
        "plt.ylabel('loss')\n",
        "plt.xlabel('epoch')\n",
        "plt.legend(['train', 'test'], loc='best')\n",
        "plt.show()"
      ],
      "execution_count": 17,
      "outputs": [
        {
          "output_type": "display_data",
          "data": {
            "text/plain": [
              "<Figure size 432x288 with 1 Axes>"
            ],
            "image/png": "[encoded data removed]"
          },
          "metadata": {
            "needs_background": "light"
          }
        }
      ]
    },
    {
      "cell_type": "code",
      "metadata": {
        "id": "jt1IEtrGvGnH"
      },
      "source": [
        "#Saving the model\n",
        "facial_expression_model.save('emotions_model.h5')"
      ],
      "execution_count": 18,
      "outputs": []
    },
    {
      "cell_type": "code",
      "metadata": {
        "id": "RU0Po6zTvHBK"
      },
      "source": [
        "#Loading the model\n",
        "from keras.models import load_model\n",
        "facial_expression_model = load_model('/content/drive/MyDrive/emotions_model.h5')"
      ],
      "execution_count": 19,
      "outputs": []
    },
    {
      "cell_type": "code",
      "source": [
        "facial_expression_model.load_weights('/content/drive/MyDrive/emotions_model.h5')"
      ],
      "metadata": {
        "id": "ILVkgiOxouY6"
      },
      "execution_count": 20,
      "outputs": []
    },
    {
      "cell_type": "code",
      "source": [
        "facial_expression_model.evaluate( validation_generator)"
      ],
      "metadata": {
        "colab": {
          "base_uri": "https://localhost:8080/"
        },
        "id": "i-6BmhMYo4gt",
        "outputId": "bf9696ca-12cb-40c3-83d3-cceca8e92fcf"
      },
      "execution_count": 21,
      "outputs": [
        {
          "output_type": "stream",
          "name": "stdout",
          "text": [
            "113/113 [==============================] - 2s 20ms/step - loss: 1.1887 - accuracy: 0.6262\n"
          ]
        },
        {
          "output_type": "execute_result",
          "data": {
            "text/plain": [
              "[1.1887383460998535, 0.6262189745903015]"
            ]
          },
          "metadata": {},
          "execution_count": 21
        }
      ]
    },
    {
      "cell_type": "code",
      "metadata": {
        "id": "ZJ2ZBMZNvHVb"
      },
      "source": [
        "def emotion_analysis(emotions):\n",
        "    objects = ('angry', 'disgust', 'fear', 'happy', 'sad', 'surprise', 'neutral')\n",
        "    y_pos = np.arange(len(objects))\n",
        "    plt.bar(y_pos, emotions, align='center', alpha=0.5,  color=\"navy\")\n",
        "    plt.xticks(y_pos, objects)\n",
        "    plt.ylabel('percentage')\n",
        "    plt.title('emotion')\n",
        "    plt.show()"
      ],
      "execution_count": 22,
      "outputs": []
    },
    {
      "cell_type": "code",
      "metadata": {
        "id": "K410aRFJvJP2"
      },
      "source": [
        "#CODE for Capturing an image on Colab from here: https://colab.research.google.com/notebook#fileId=1OnUy6eFE7XhdfGfAHDCqQxpwueTOj_NO\n",
        " \n",
        "from IPython.display import display, Javascript\n",
        "from google.colab.output import eval_js\n",
        "from base64 import b64decode\n",
        " \n",
        "def take_photo(filename='photo.jpg', quality=0.8):\n",
        "  js = Javascript('''\n",
        "    async function takePhoto(quality) {\n",
        "      const div = document.createElement('div');\n",
        "      const capture = document.createElement('button');\n",
        "      capture.textContent = 'Capture';\n",
        "      div.appendChild(capture);\n",
        " \n",
        "      const video = document.createElement('video');\n",
        "      video.style.display = 'block';\n",
        "      const stream = await navigator.mediaDevices.getUserMedia({video: true});\n",
        " \n",
        "      document.body.appendChild(div);\n",
        "      div.appendChild(video);\n",
        "      video.srcObject = stream;\n",
        "      await video.play();\n",
        " \n",
        "      // Resize the output to fit the video element.\n",
        "      google.colab.output.setIframeHeight(document.documentElement.scrollHeight, true);\n",
        " \n",
        "      // Wait for Capture to be clicked.\n",
        "      await new Promise((resolve) => capture.onclick = resolve);\n",
        " \n",
        "      const canvas = document.createElement('canvas');\n",
        "      canvas.width = video.videoWidth;\n",
        "      canvas.height = video.videoHeight;\n",
        "      canvas.getContext('2d').drawImage(video, 0, 0);\n",
        "      stream.getVideoTracks()[0].stop();\n",
        "      div.remove();\n",
        "      return canvas.toDataURL('image/jpeg', quality);\n",
        "    }\n",
        "    ''')\n",
        "  display(js)\n",
        "  data = eval_js('takePhoto({})'.format(quality))\n",
        "  binary = b64decode(data.split(',')[1])\n",
        "  with open(filename, 'wb') as f:\n",
        "    f.write(binary)\n",
        "  return filename"
      ],
      "execution_count": 26,
      "outputs": []
    },
    {
      "cell_type": "code",
      "metadata": {
        "id": "VgyXDJVuvJox"
      },
      "source": [
        "take_photo()"
      ],
      "execution_count": null,
      "outputs": []
    },
    {
      "cell_type": "code",
      "metadata": {
        "id": "MhlbSmkCvJ6u",
        "colab": {
          "base_uri": "https://localhost:8080/",
          "height": 531
        },
        "outputId": "4d8b1884-327d-448c-efda-8bf4524e40e3"
      },
      "source": [
        "import cv2\n",
        "            \n",
        "def facecrop(image):  \n",
        "    facedata = '/content/drive/MyDrive/haarcascade_frontalface_default.xml'\n",
        "    cascade = cv2.CascadeClassifier(facedata)\n",
        " \n",
        "    img = cv2.imread(image)\n",
        " \n",
        "    try:\n",
        "    \n",
        "        minisize = (img.shape[1],img.shape[0])\n",
        "        miniframe = cv2.resize(img, minisize)\n",
        " \n",
        "        faces = cascade.detectMultiScale(miniframe)\n",
        " \n",
        "        for f in faces:\n",
        "            x, y, w, h = [ v for v in f ]\n",
        "            cv2.rectangle(img, (x,y), (x+w,y+h), (0,255,0), 2)\n",
        " \n",
        "            sub_face = img[y:y+h, x:x+w]\n",
        " \n",
        "            \n",
        "            cv2.imwrite('photo.jpg', sub_face)\n",
        "            #print (\"Writing: \" + image)\n",
        " \n",
        "    except Exception as e:\n",
        "        print (e)\n",
        " \n",
        "   \n",
        " \n",
        " \n",
        "if __name__ == '__main__':\n",
        "    facecrop('/content/photo.jpg')\n",
        " \n",
        "#Testing a file.\n",
        " \n",
        "from keras.preprocessing import image\n",
        "from keras.preprocessing.image import ImageDataGenerator\n",
        " \n",
        "import numpy as np\n",
        "import matplotlib.pyplot as plt\n",
        " \n",
        " \n",
        "file = '/content/photo.jpg'\n",
        "true_image = image.load_img(file)\n",
        "img = image.load_img(file, color_mode=\"grayscale\", target_size=(48, 48))\n",
        " \n",
        "x = image.img_to_array(img)\n",
        "x = np.expand_dims(x, axis = 0)\n",
        " \n",
        "x /= 255\n",
        " \n",
        "custom = facial_expression_model.predict(x)\n",
        "emotion_analysis(custom[0])\n",
        " \n",
        "x = np.array(x, 'float32')\n",
        "x = x.reshape([48, 48]);\n",
        " \n",
        " \n",
        "plt.imshow(true_image)\n",
        "plt.show()"
      ],
      "execution_count": 27,
      "outputs": [
        {
          "output_type": "display_data",
          "data": {
            "text/plain": [
              "<Figure size 432x288 with 1 Axes>"
            ],
            "image/png": "[encoded data removed]"
          },
          "metadata": {
            "needs_background": "light"
          }
        },
        {
          "output_type": "display_data",
          "data": {
            "text/plain": [
              "<Figure size 432x288 with 1 Axes>"
            ],
            "image/png": "[encoded data removed]"
          },
          "metadata": {
            "needs_background": "light"
          }
        }
      ]
    },
    {
      "cell_type": "code",
      "metadata": {
        "id": "xYYjc0tQYWPQ"
      },
      "source": [
        ""
      ],
      "execution_count": null,
      "outputs": []
    }
  ]
}